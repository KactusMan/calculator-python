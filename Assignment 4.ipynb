{
 "cells": [
  {
   "cell_type": "code",
   "execution_count": 1,
   "id": "30ff985f",
   "metadata": {},
   "outputs": [
    {
     "name": "stdout",
     "output_type": "stream",
     "text": [
      "Enter the first number: 2\n",
      "Enter the second number: 5\n",
      "Enter the operator you want to perform\n",
      "Enter any of these operator for operation +, -, *, / ,pow pow\n",
      "2 pow 5 :  32\n"
     ]
    }
   ],
   "source": [
    "## 1.Make a calculator using Python with addition , subtraction ,multiplication ,division and power.\n",
    "num1=int(input(\"Enter the first number: \"))\n",
    "num2=int(input(\"Enter the second number: \"))\n",
    "print(\"Enter the operator you want to perform\");\n",
    "ch=input(\"Enter any of these operator for operation +, -, *, / ,pow \")\n",
    "result=0\n",
    "if ch=='+':\n",
    "    result=num1+num2;\n",
    "elif ch=='-':\n",
    "    result=num1-num2;\n",
    "elif ch=='*':\n",
    "    result=num1*num2;\n",
    "elif ch=='/':\n",
    "    result=num1/num2;\n",
    "elif ch=='pow':\n",
    "    result=num1**num2;\n",
    "print(num1,ch,num2,\": \",result)"
   ]
  },
  {
   "cell_type": "code",
   "execution_count": 2,
   "id": "3a14f4e3",
   "metadata": {},
   "outputs": [
    {
     "name": "stdout",
     "output_type": "stream",
     "text": [
      "4\n"
     ]
    }
   ],
   "source": [
    "## 2.Write a program to check if there is any numeric value in list using forloop.\n",
    "list = [\"abc\", \"def\", 4, \"ghi\"] \n",
    "for x in list: \n",
    "    if type(x) == int: \n",
    "        print(x)"
   ]
  },
  {
   "cell_type": "code",
   "execution_count": 5,
   "id": "c67dad2c",
   "metadata": {},
   "outputs": [
    {
     "name": "stdout",
     "output_type": "stream",
     "text": [
      "Current Dict is:  {'key1': 'Rayan', 'key2': 'idrees'}\n",
      "Updated Dict is:  {'key1': 'Rayan', 'key2': 'idrees', 'key3': 'Pakistan'}\n"
     ]
    }
   ],
   "source": [
    "## 3.Write a Python script to add a key to a dictionary\n",
    "dict = {'key1':'Rayan', 'key2':'idrees'}\n",
    "print(\"Current Dict is: \", dict)\n",
    "dict.update({'key3':'Pakistan'})\n",
    "print(\"Updated Dict is: \", dict)"
   ]
  },
  {
   "cell_type": "code",
   "execution_count": 6,
   "id": "1eda7bd5",
   "metadata": {},
   "outputs": [
    {
     "name": "stdout",
     "output_type": "stream",
     "text": [
      "Total sum of values in the dictionary:\n",
      "879\n"
     ]
    }
   ],
   "source": [
    "## 4.Write a Python program to sum all the numeric items in a dictionary.\n",
    "d={'A':100,'B':540,'C':239}\n",
    "print(\"Total sum of values in the dictionary:\")\n",
    "print(sum(d.values()))"
   ]
  },
  {
   "cell_type": "code",
   "execution_count": 10,
   "id": "7aa94118",
   "metadata": {},
   "outputs": [
    {
     "name": "stdout",
     "output_type": "stream",
     "text": [
      "Duplicate elements in given list: \n",
      "2\n",
      "3\n",
      "8\n"
     ]
    }
   ],
   "source": [
    "## 5.Write a program to identify duplicate values from list.\n",
    "list= [1, 2, 3, 4, 2, 7, 8, 8, 3];     \n",
    "print(\"Duplicate elements in given list: \");       \n",
    "for i in range(0, len(list)):    \n",
    "    for j in range(i+1, len(list)):    \n",
    "        if(list[i] == list[j]):    \n",
    "            print(list[j]);"
   ]
  },
  {
   "cell_type": "code",
   "execution_count": 14,
   "id": "a5c674d7",
   "metadata": {},
   "outputs": [
    {
     "name": "stdout",
     "output_type": "stream",
     "text": [
      "Enter key to check:5\n",
      "Key isn't present!\n"
     ]
    }
   ],
   "source": [
    "## 6.Write a Python script to check if a given key already exists in a dictionary\n",
    "d={'A':1,'B':2,'C':3}\n",
    "key=input((\"Enter key to check:\"))\n",
    "if key in d.keys():\n",
    "      print(\"Key is present and value of the key is:\")\n",
    "      print(d[key])\n",
    "else:\n",
    "      print(\"Key isn't present!\")"
   ]
  }
 ],
 "metadata": {
  "kernelspec": {
   "display_name": "Python 3",
   "language": "python",
   "name": "python3"
  },
  "language_info": {
   "codemirror_mode": {
    "name": "ipython",
    "version": 3
   },
   "file_extension": ".py",
   "mimetype": "text/x-python",
   "name": "python",
   "nbconvert_exporter": "python",
   "pygments_lexer": "ipython3",
   "version": "3.8.8"
  }
 },
 "nbformat": 4,
 "nbformat_minor": 5
}
